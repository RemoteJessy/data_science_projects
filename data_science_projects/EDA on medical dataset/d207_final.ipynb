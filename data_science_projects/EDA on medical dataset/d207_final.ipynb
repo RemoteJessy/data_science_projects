{
 "cells": [
  {
   "cell_type": "code",
   "execution_count": 1,
   "id": "47c75d66-2ceb-400d-ae0e-5fdba997b0a6",
   "metadata": {},
   "outputs": [
    {
     "name": "stdout",
     "output_type": "stream",
     "text": [
      "      CaseOrder Customer_id                           Interaction  \\\n",
      "0             1     C412403  8cd49b13-f45a-4b47-a2bd-173ffa932c2f   \n",
      "1             2     Z919181  d2450b70-0337-4406-bdbb-bc1037f1734c   \n",
      "2             3     F995323  a2057123-abf5-4a2c-abad-8ffe33512562   \n",
      "3             4     A879973  1dec528d-eb34-4079-adce-0d7a40e82205   \n",
      "4             5     C544523  5885f56b-d6da-43a3-8760-83583af94266   \n",
      "...         ...         ...                                   ...   \n",
      "9995       9996     B863060  a25b594d-0328-486f-a9b9-0567eb0f9723   \n",
      "9996       9997     P712040  70711574-f7b1-4a17-b15f-48c54564b70f   \n",
      "9997       9998     R778890  1d79569d-8e0f-4180-a207-d67ee4527d26   \n",
      "9998       9999     E344109  f5a68e69-2a60-409b-a92f-ac0847b27db0   \n",
      "9999      10000     I569847  bc482c02-f8c9-4423-99de-3db5e62a18d5   \n",
      "\n",
      "                                   UID          City State        County  \\\n",
      "0     3a83ddb66e2ae73798bdf1d705dc0932           Eva    AL        Morgan   \n",
      "1     176354c5eef714957d486009feabf195      Marianna    FL       Jackson   \n",
      "2     e19a0fa00aeda885b8a436757e889bc9   Sioux Falls    SD     Minnehaha   \n",
      "3     cd17d7b6d152cb6f23957346d11c3f07  New Richland    MN        Waseca   \n",
      "4     d2f0425877b10ed6bb381f3e2579424a    West Point    VA  King William   \n",
      "...                                ...           ...   ...           ...   \n",
      "9995  39184dc28cc038871912ccc4500049e5       Norlina    NC        Warren   \n",
      "9996  3cd124ccd43147404292e883bf9ec55c        Milmay    NJ      Atlantic   \n",
      "9997  41b770aeee97a5b9e7f69c906a8119d7     Southside    TN    Montgomery   \n",
      "9998  2bb491ef5b1beb1fed758cc6885c167a         Quinn    SD    Pennington   \n",
      "9999  95663a202338000abdf7e09311c2a8a1    Coraopolis    PA     Allegheny   \n",
      "\n",
      "        Zip       Lat        Lng  ...  TotalCharge Additional_charges Item1  \\\n",
      "0     35621  34.34960  -86.72508  ...  3726.702860       17939.403420     3   \n",
      "1     32446  30.84513  -85.22907  ...  4193.190458       17612.998120     3   \n",
      "2     57110  43.54321  -96.63772  ...  2434.234222       17505.192460     2   \n",
      "3     56072  43.89744  -93.51479  ...  2127.830423       12993.437350     3   \n",
      "4     23181  37.59894  -76.88958  ...  2113.073274        3716.525786     2   \n",
      "...     ...       ...        ...  ...          ...                ...   ...   \n",
      "9995  27563  36.42886  -78.23716  ...  6850.942000        8927.642000     3   \n",
      "9996   8340  39.43609  -74.87302  ...  7741.690000       28507.150000     3   \n",
      "9997  37171  36.36655  -87.29988  ...  8276.481000       15281.210000     3   \n",
      "9998  57775  44.10354 -102.01590  ...  7644.483000        7781.678000     5   \n",
      "9999  15108  40.49998  -80.19959  ...  7887.553000       11643.190000     4   \n",
      "\n",
      "     Item2  Item3  Item4  Item5 Item6 Item7 Item8  \n",
      "0        3      2      2      4     3     3     4  \n",
      "1        4      3      4      4     4     3     3  \n",
      "2        4      4      4      3     4     3     3  \n",
      "3        5      5      3      4     5     5     5  \n",
      "4        1      3      3      5     3     4     3  \n",
      "...    ...    ...    ...    ...   ...   ...   ...  \n",
      "9995     2      2      3      4     3     4     2  \n",
      "9996     3      4      2      5     3     4     4  \n",
      "9997     3      3      4      4     2     3     2  \n",
      "9998     5      3      4      4     3     4     3  \n",
      "9999     3      3      2      3     6     4     3  \n",
      "\n",
      "[10000 rows x 50 columns]\n"
     ]
    }
   ],
   "source": [
    "import pandas as pd\n",
    "import numpy as np\n",
    "import scipy.stats as stats\n",
    "import matplotlib.mlab as mlab\n",
    "import matplotlib.pyplot as plt\n",
    "import seaborn as sns\n",
    "import statsmodels.api as sm\n",
    "from statsmodels.formula.api import ols\n",
    "df = pd.read_csv(r'C:\\Users\\dre2\\Desktop\\WGU\\D207\\medical_clean.csv')\n",
    "print(df)"
   ]
  },
  {
   "cell_type": "code",
   "execution_count": 2,
   "id": "c75cb2bf-3b82-4b9b-b330-2e0513786966",
   "metadata": {},
   "outputs": [
    {
     "data": {
      "text/plain": [
       "array([[<AxesSubplot:title={'center':'Income'}>]], dtype=object)"
      ]
     },
     "execution_count": 2,
     "metadata": {},
     "output_type": "execute_result"
    },
    {
     "data": {
      "image/png": "[encoded data removed]",
      "text/plain": [
       "<Figure size 432x288 with 1 Axes>"
      ]
     },
     "metadata": {
      "needs_background": "light"
     },
     "output_type": "display_data"
    }
   ],
   "source": [
    "df.hist(['Income'])\n"
   ]
  },
  {
   "cell_type": "code",
   "execution_count": 3,
   "id": "374c500f-6ebf-47b2-8625-1f33cd810bec",
   "metadata": {},
   "outputs": [
    {
     "data": {
      "text/plain": [
       "<AxesSubplot:>"
      ]
     },
     "execution_count": 3,
     "metadata": {},
     "output_type": "execute_result"
    },
    {
     "data": {
      "image/png": "[encoded data removed]",
      "text/plain": [
       "<Figure size 432x288 with 1 Axes>"
      ]
     },
     "metadata": {
      "needs_background": "light"
     },
     "output_type": "display_data"
    }
   ],
   "source": [
    "df.boxplot(['Income'])\n"
   ]
  },
  {
   "cell_type": "code",
   "execution_count": 4,
   "id": "f13de463-4ae9-4290-b32e-6503a6517997",
   "metadata": {},
   "outputs": [
    {
     "data": {
      "text/plain": [
       "array([[<AxesSubplot:title={'center':'Age'}>]], dtype=object)"
      ]
     },
     "execution_count": 4,
     "metadata": {},
     "output_type": "execute_result"
    },
    {
     "data": {
      "image/png": "[encoded data removed]",
      "text/plain": [
       "<Figure size 432x288 with 1 Axes>"
      ]
     },
     "metadata": {
      "needs_background": "light"
     },
     "output_type": "display_data"
    }
   ],
   "source": [
    "df.hist(['Age'])\n"
   ]
  },
  {
   "cell_type": "code",
   "execution_count": 5,
   "id": "30069ef9-e056-4208-916a-cf8e78bbced0",
   "metadata": {},
   "outputs": [
    {
     "data": {
      "text/plain": [
       "<AxesSubplot:>"
      ]
     },
     "execution_count": 5,
     "metadata": {},
     "output_type": "execute_result"
    },
    {
     "data": {
      "image/png": "[encoded data removed]",
      "text/plain": [
       "<Figure size 432x288 with 1 Axes>"
      ]
     },
     "metadata": {
      "needs_background": "light"
     },
     "output_type": "display_data"
    }
   ],
   "source": [
    "df.boxplot(['Age'])"
   ]
  },
  {
   "cell_type": "code",
   "execution_count": 6,
   "id": "f18d0e6f-28e4-467d-9ac5-f4448e566df3",
   "metadata": {},
   "outputs": [
    {
     "data": {
      "text/plain": [
       "ReAdmis\n",
       "No     6331\n",
       "Yes    3669\n",
       "dtype: int64"
      ]
     },
     "execution_count": 6,
     "metadata": {},
     "output_type": "execute_result"
    }
   ],
   "source": [
    "groupedReAdmis = df.groupby(by='ReAdmis').size()\n",
    "groupedReAdmis"
   ]
  },
  {
   "cell_type": "code",
   "execution_count": 7,
   "id": "7c64e4a0-156b-47b0-9cf1-ac70cf817317",
   "metadata": {},
   "outputs": [
    {
     "data": {
      "text/plain": [
       "<AxesSubplot:xlabel='ReAdmis'>"
      ]
     },
     "execution_count": 7,
     "metadata": {},
     "output_type": "execute_result"
    },
    {
     "data": {
      "image/png": "[encoded data removed]",
      "text/plain": [
       "<Figure size 432x288 with 1 Axes>"
      ]
     },
     "metadata": {
      "needs_background": "light"
     },
     "output_type": "display_data"
    }
   ],
   "source": [
    "%matplotlib inline\n",
    "groupedReAdmis.plot.bar()"
   ]
  },
  {
   "cell_type": "code",
   "execution_count": 8,
   "id": "e3dd23e8-7523-49d3-9b05-e6a8f9001230",
   "metadata": {},
   "outputs": [
    {
     "data": {
      "text/plain": [
       "Services\n",
       "Blood Work     5265\n",
       "CT Scan        1225\n",
       "Intravenous    3130\n",
       "MRI             380\n",
       "dtype: int64"
      ]
     },
     "execution_count": 8,
     "metadata": {},
     "output_type": "execute_result"
    }
   ],
   "source": [
    "groupedServices = df.groupby(by='Services').size()\n",
    "groupedServices"
   ]
  },
  {
   "cell_type": "code",
   "execution_count": 9,
   "id": "bdbf7be7-5286-42a4-a7fd-3cab008dcfab",
   "metadata": {},
   "outputs": [
    {
     "data": {
      "text/plain": [
       "<AxesSubplot:xlabel='Services'>"
      ]
     },
     "execution_count": 9,
     "metadata": {},
     "output_type": "execute_result"
    },
    {
     "data": {
      "image/png": "[encoded data removed]",
      "text/plain": [
       "<Figure size 432x288 with 1 Axes>"
      ]
     },
     "metadata": {
      "needs_background": "light"
     },
     "output_type": "display_data"
    }
   ],
   "source": [
    "%matplotlib inline\n",
    "groupedServices.plot.bar()"
   ]
  },
  {
   "cell_type": "code",
   "execution_count": 10,
   "id": "4e079108-18e0-49b0-9993-be770e853f56",
   "metadata": {},
   "outputs": [
    {
     "data": {
      "text/plain": [
       "<AxesSubplot:xlabel='Income', ylabel='ReAdmis'>"
      ]
     },
     "execution_count": 10,
     "metadata": {},
     "output_type": "execute_result"
    },
    {
     "data": {
      "image/png": "[encoded data removed]",
      "text/plain": [
       "<Figure size 432x288 with 1 Axes>"
      ]
     },
     "metadata": {
      "needs_background": "light"
     },
     "output_type": "display_data"
    }
   ],
   "source": [
    "df.plot.scatter(x='Income', y='ReAdmis')"
   ]
  },
  {
   "cell_type": "code",
   "execution_count": 11,
   "id": "b8ad0144-8ea9-4e3b-90a4-1112780cd655",
   "metadata": {},
   "outputs": [
    {
     "data": {
      "text/plain": [
       "<AxesSubplot:xlabel='Age', ylabel='ReAdmis'>"
      ]
     },
     "execution_count": 11,
     "metadata": {},
     "output_type": "execute_result"
    },
    {
     "data": {
      "image/png": "[encoded data removed]",
      "text/plain": [
       "<Figure size 432x288 with 1 Axes>"
      ]
     },
     "metadata": {
      "needs_background": "light"
     },
     "output_type": "display_data"
    }
   ],
   "source": [
    "df.plot.scatter(x='Age', y='ReAdmis')"
   ]
  },
  {
   "cell_type": "code",
   "execution_count": 12,
   "id": "dfd677af-0c16-4175-b6bf-74ba45f788db",
   "metadata": {},
   "outputs": [
    {
     "data": {
      "text/plain": [
       "<AxesSubplot:xlabel='Income', ylabel='Services'>"
      ]
     },
     "execution_count": 12,
     "metadata": {},
     "output_type": "execute_result"
    },
    {
     "data": {
      "image/png": "[encoded data removed]",
      "text/plain": [
       "<Figure size 432x288 with 1 Axes>"
      ]
     },
     "metadata": {
      "needs_background": "light"
     },
     "output_type": "display_data"
    }
   ],
   "source": [
    "df.plot.scatter(x='Income', y='Services')"
   ]
  },
  {
   "cell_type": "code",
   "execution_count": 13,
   "id": "3da18c9f-ea66-448d-9b0f-08af8930c71d",
   "metadata": {},
   "outputs": [
    {
     "data": {
      "text/plain": [
       "<AxesSubplot:xlabel='Age', ylabel='Services'>"
      ]
     },
     "execution_count": 13,
     "metadata": {},
     "output_type": "execute_result"
    },
    {
     "data": {
      "image/png": "[encoded data removed]",
      "text/plain": [
       "<Figure size 432x288 with 1 Axes>"
      ]
     },
     "metadata": {
      "needs_background": "light"
     },
     "output_type": "display_data"
    }
   ],
   "source": [
    "df.plot.scatter(x='Age', y='Services')"
   ]
  },
  {
   "cell_type": "code",
   "execution_count": null,
   "id": "56ddb345-9a06-4b76-873d-4c480e3da653",
   "metadata": {},
   "outputs": [],
   "source": []
  }
 ],
 "metadata": {
  "kernelspec": {
   "display_name": "Python 3",
   "language": "python",
   "name": "python3"
  },
  "language_info": {
   "codemirror_mode": {
    "name": "ipython",
    "version": 3
   },
   "file_extension": ".py",
   "mimetype": "text/x-python",
   "name": "python",
   "nbconvert_exporter": "python",
   "pygments_lexer": "ipython3",
   "version": "3.8.8"
  }
 },
 "nbformat": 4,
 "nbformat_minor": 5
}
